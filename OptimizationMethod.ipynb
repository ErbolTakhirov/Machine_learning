{
 "cells": [
  {
   "cell_type": "code",
   "execution_count": 3,
   "id": "cc0f0170-5199-4913-bd8f-1290e7e7f010",
   "metadata": {},
   "outputs": [
    {
     "ename": "NameError",
     "evalue": "name 'data' is not defined",
     "output_type": "error",
     "traceback": [
      "\u001b[1;31m---------------------------------------------------------------------------\u001b[0m",
      "\u001b[1;31mNameError\u001b[0m                                 Traceback (most recent call last)",
      "Cell \u001b[1;32mIn[3], line 9\u001b[0m\n\u001b[0;32m      7\u001b[0m loss_fn \u001b[38;5;241m=\u001b[39m nn\u001b[38;5;241m.\u001b[39mMSELoss()\n\u001b[0;32m      8\u001b[0m optimizer \u001b[38;5;241m=\u001b[39m optim\u001b[38;5;241m.\u001b[39mSGD(model\u001b[38;5;241m.\u001b[39mparameters(), lr\u001b[38;5;241m=\u001b[39m\u001b[38;5;241m0.01\u001b[39m)\n\u001b[1;32m----> 9\u001b[0m \u001b[38;5;28;01mfor\u001b[39;00m x, y \u001b[38;5;129;01min\u001b[39;00m \u001b[43mdata\u001b[49m:\n\u001b[0;32m     10\u001b[0m     y_pred \u001b[38;5;241m=\u001b[39m model(x)\n\u001b[0;32m     11\u001b[0m     loss \u001b[38;5;241m=\u001b[39m loss_fn(y_pred, y)\n",
      "\u001b[1;31mNameError\u001b[0m: name 'data' is not defined"
     ]
    }
   ],
   "source": [
    "import torch\n",
    "import torch.nn as nn\n",
    "import torch.optim as optim\n",
    "\n",
    "model = nn.Linear(1, 1)\n",
    "\n",
    "loss_fn = nn.MSELoss()\n",
    "optimizer = optim.SGD(model.parameters(), lr=0.01)\n",
    "for x, y in data:\n",
    "    y_pred = model(x)\n",
    "    loss = loss_fn(y_pred, y)\n",
    "\n",
    "    optimizer.zero_grad()\n",
    "    loss.backward()\n",
    "    optimizer.step()\n",
    "    "
   ]
  },
  {
   "cell_type": "code",
   "execution_count": 9,
   "id": "b457949b-b04f-4bcb-93fd-52f263ab86f5",
   "metadata": {},
   "outputs": [
    {
     "name": "stdout",
     "output_type": "stream",
     "text": [
      "Эпоха 10:loss = 0.2948\n",
      "Эпоха 20:loss = 0.0823\n",
      "Эпоха 30:loss = 0.0724\n",
      "Эпоха 40:loss = 0.0681\n",
      "Эпоха 50:loss = 0.0641\n",
      "Эпоха 60:loss = 0.0604\n",
      "Эпоха 70:loss = 0.0569\n",
      "Эпоха 80:loss = 0.0536\n",
      "Эпоха 90:loss = 0.0504\n",
      "Эпоха 100:loss = 0.0475\n",
      "\n",
      "Параметры модели\n",
      "w = 1.8191, b = 0.5317\n"
     ]
    },
    {
     "data": {
      "image/png": "[encoded data removed]",
      "text/plain": [
       "<Figure size 640x480 with 1 Axes>"
      ]
     },
     "metadata": {},
     "output_type": "display_data"
    }
   ],
   "source": [
    "import torch\n",
    "import torch.nn as nn\n",
    "# torch.nn - модуль с готовыми слоями и фунциями потерь\n",
    "import torch.optim as optim\n",
    "# содержит оптимизаторы, например SGD, Adam\n",
    "import matplotlib.pyplot as plt\n",
    "\n",
    "\n",
    "x_train = torch.tensor([[1.0], [2.0], [3.0], [4.0]])\n",
    "y_train = torch.tensor([[2.0], [4.0], [6.0], [8.0]])\n",
    "\n",
    "model = nn.Linear(in_features=1, out_features=1)\n",
    "# in_features=1 - на вход подается одно число (х)\n",
    "# out_features=1 - на выходе одно число(предсказание у)\n",
    "loss_fn = nn.MSELoss()\n",
    "# Loss = 1/n * (sum(y_pred - y_true) ** 2)\n",
    "optimizer = optim.SGD(model.parameters(), lr=0.01)\n",
    "# model_parameters() - параметры модели(веса и смещения)\n",
    "# lr=0.01 - lerning rate(скорость обучения). Чем выше - тем быстрее меняются параметры.\n",
    "epochs = 100\n",
    "# Обучаем модель за 100 циклов \n",
    "loss_history = []\n",
    "# Список, где будут значения ошибок, чтобы нарисовать график.\n",
    "\n",
    "for epoch in range(epochs):\n",
    "    y_pred = model(x_train)\n",
    "    # делает предсказание на входах x_train \n",
    "    loss = loss_fn(y_pred, y_train)\n",
    "    # вычисляем ошибку предсказания между y_pred и y_train\n",
    "    loss_history.append(loss.item())\n",
    "    # loss.item() - превращаем PyTorch-тензор в обычное число и добавляем в loss_history\n",
    "    optimizer.zero_grad()\n",
    "    # Обнуляем старые градиенты перед новым шагом В Pytorch они накапливаются, поэтому надо чистить каждый раз\n",
    "    loss.backward()\n",
    "    # считает градиенты автоматически: производная ошибки по весу и производная ошибки по смещению\n",
    "    optimizer.step()\n",
    "    # оптимизатор обновляет параметры модели: W = W - learning_rate * градиент\n",
    "    \n",
    "    if (epoch+1) % 10 == 0:\n",
    "        print(f'Эпоха {epoch+1}:loss = {loss.item():.4f}')\n",
    "    # каждые 10 эпох печатаем текущую ошибку, чтобы видеть прогресс обучения\n",
    "print('\\nПараметры модели')\n",
    "print(f'w = {model.weight.item():.4f}, b = {model.bias.item():.4f}')\n",
    "plt.plot(loss_history)\n",
    "plt.xlabel('Эпоха')\n",
    "plt.ylabel('Loss')\n",
    "plt.title('Снижение ошибки при обучении ')\n",
    "plt.grid(True)\n",
    "plt.show()"
   ]
  },
  {
   "cell_type": "code",
   "execution_count": null,
   "id": "0ca4d239-4118-45b6-8229-3b8be23c7c70",
   "metadata": {},
   "outputs": [],
   "source": []
  }
 ],
 "metadata": {
  "kernelspec": {
   "display_name": "Python 3 (ipykernel)",
   "language": "python",
   "name": "python3"
  },
  "language_info": {
   "codemirror_mode": {
    "name": "ipython",
    "version": 3
   },
   "file_extension": ".py",
   "mimetype": "text/x-python",
   "name": "python",
   "nbconvert_exporter": "python",
   "pygments_lexer": "ipython3",
   "version": "3.10.11"
  }
 },
 "nbformat": 4,
 "nbformat_minor": 5
}
